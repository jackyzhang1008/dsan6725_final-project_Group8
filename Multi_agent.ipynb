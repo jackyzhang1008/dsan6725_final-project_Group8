{
 "cells": [
  {
   "cell_type": "markdown",
   "id": "f590158a-c75c-4333-8368-dbb4c0d70a0a",
   "metadata": {},
   "source": [
    "# Setup"
   ]
  },
  {
   "cell_type": "code",
   "execution_count": 1,
   "id": "e63828f3-66d4-44e3-acbf-c531e755481b",
   "metadata": {},
   "outputs": [
    {
     "ename": "ModuleNotFoundError",
     "evalue": "No module named 'langchain_aws'",
     "output_type": "error",
     "traceback": [
      "\u001b[0;31m---------------------------------------------------------------------------\u001b[0m",
      "\u001b[0;31mModuleNotFoundError\u001b[0m                       Traceback (most recent call last)",
      "Cell \u001b[0;32mIn[1], line 7\u001b[0m\n\u001b[1;32m      5\u001b[0m \u001b[38;5;28;01mimport\u001b[39;00m\u001b[38;5;250m \u001b[39m\u001b[38;5;21;01mlogging\u001b[39;00m\n\u001b[1;32m      6\u001b[0m \u001b[38;5;28;01mfrom\u001b[39;00m\u001b[38;5;250m \u001b[39m\u001b[38;5;21;01mpathlib\u001b[39;00m\u001b[38;5;250m \u001b[39m\u001b[38;5;28;01mimport\u001b[39;00m Path\n\u001b[0;32m----> 7\u001b[0m \u001b[38;5;28;01mfrom\u001b[39;00m\u001b[38;5;250m \u001b[39m\u001b[38;5;21;01mlangchain_aws\u001b[39;00m\u001b[38;5;250m \u001b[39m\u001b[38;5;28;01mimport\u001b[39;00m ChatBedrockConverse\n",
      "\u001b[0;31mModuleNotFoundError\u001b[0m: No module named 'langchain_aws'"
     ]
    }
   ],
   "source": [
    "import os\n",
    "import time\n",
    "import json\n",
    "import boto3\n",
    "import logging\n",
    "from pathlib import Path\n",
    "from langchain_aws import ChatBedrockConverse"
   ]
  },
  {
   "cell_type": "code",
   "execution_count": null,
   "id": "464772b9-c356-42d0-93aa-ae8a582b9d00",
   "metadata": {},
   "outputs": [],
   "source": [
    "# Setup logging\n",
    "logging.basicConfig(format='[%(asctime)s] p%(process)s {%(filename)s:%(lineno)d} %(levelname)s - %(message)s', level=logging.INFO)\n",
    "logger = logging.getLogger(__name__)"
   ]
  },
  {
   "cell_type": "code",
   "execution_count": null,
   "id": "0125e078-bdd1-4f8d-84f6-2ddf5eb1ad0d",
   "metadata": {},
   "outputs": [],
   "source": [
    "from colorama import init, Fore, Style\n",
    "import logging\n",
    "\n",
    "# Initialize colorama\n",
    "init()\n",
    "\n",
    "# Create a custom formatter\n",
    "class ColoredFormatter(logging.Formatter):\n",
    "    def format(self, record):\n",
    "        message = record.msg\n",
    "        if isinstance(message, list):\n",
    "            # Process each message in the list\n",
    "            formatted_messages = []\n",
    "            for msg in message:\n",
    "                if msg.__class__.__name__ == 'HumanMessage':\n",
    "                    formatted_msg = f\"{Fore.GREEN}[Human] {msg.content}{Style.RESET_ALL}\"\n",
    "                elif msg.__class__.__name__ == 'AIMessage':\n",
    "                    formatted_msg = f\"{Fore.BLUE}[AI] {msg.content}{Style.RESET_ALL}\"\n",
    "                elif msg.__class__.__name__ == 'ToolMessage':\n",
    "                    formatted_msg = f\"{Fore.YELLOW}[Tool] {msg.content}...{Style.RESET_ALL}\"\n",
    "                else:\n",
    "                    formatted_msg = str(msg)\n",
    "                formatted_messages.append(formatted_msg)\n",
    "            record.msg = '\\n'.join(formatted_messages)\n",
    "        return super().format(record)\n",
    "# Set up logger with the custom formatter\n",
    "logger = logging.getLogger(__name__)\n",
    "handler = logging.StreamHandler()\n",
    "handler.setFormatter(ColoredFormatter('%(message)s'))\n",
    "logger.addHandler(handler)\n",
    "logger.setLevel(logging.INFO)\n",
    "os.environ[\"AWS_REGION_NAME\"] = \"us-east-1\""
   ]
  },
  {
   "cell_type": "code",
   "execution_count": null,
   "id": "87d0f978-b7fd-4140-b0b0-00526958cb3d",
   "metadata": {},
   "outputs": [],
   "source": [
    "ROLE_TO_ASSUME = Path(os.path.join(os.environ[\"HOME\"],\"BedrockCrossAccount.txt\")).read_text().strip()\n",
    "logger.info(f\"ROLE_TO_ASSUME={ROLE_TO_ASSUME}\")\n",
    "role_to_assume = ROLE_TO_ASSUME\n",
    "import boto3\n",
    "import datetime\n",
    "from botocore.session import get_session\n",
    "from botocore.credentials import RefreshableCredentials\n",
    "\n",
    "# ARN of Role A to assume  \n",
    "role_to_assume = ROLE_TO_ASSUME\n",
    "\n",
    "def get_credentials():\n",
    "    sts_client = boto3.client('sts')\n",
    "    assumed_role = sts_client.assume_role(\n",
    "        RoleArn=role_to_assume,\n",
    "        RoleSessionName='cross-account-session',\n",
    "        # Don't set DurationSeconds when role chaining\n",
    "    )\n",
    "    return {\n",
    "        'access_key': assumed_role['Credentials']['AccessKeyId'],\n",
    "        'secret_key': assumed_role['Credentials']['SecretAccessKey'],\n",
    "        'token': assumed_role['Credentials']['SessionToken'],\n",
    "        'expiry_time': assumed_role['Credentials']['Expiration'].isoformat()\n",
    "    }\n",
    "\n",
    "session = get_session()\n",
    "refresh_creds = RefreshableCredentials.create_from_metadata(\n",
    "    metadata=get_credentials(),\n",
    "    refresh_using=get_credentials,\n",
    "    method='sts-assume-role'\n",
    ")\n",
    "\n",
    "# Create a new session with refreshable credentials\n",
    "session._credentials = refresh_creds\n",
    "boto3_session = boto3.Session(botocore_session=session)"
   ]
  },
  {
   "cell_type": "code",
   "execution_count": null,
   "id": "190d6623-c25d-4b3e-a83f-0f17196d665b",
   "metadata": {},
   "outputs": [],
   "source": [
    "ROLE_TO_ASSUME = Path(os.path.join(os.environ[\"HOME\"],\"BedrockCrossAccount.txt\")).read_text().strip()\n",
    "logger.info(f\"ROLE_TO_ASSUME={ROLE_TO_ASSUME}\")\n",
    "role_to_assume = ROLE_TO_ASSUME\n",
    "import boto3\n",
    "import datetime\n",
    "from botocore.session import get_session\n",
    "from botocore.credentials import RefreshableCredentials\n",
    "\n",
    "# ARN of Role A to assume  \n",
    "role_to_assume = ROLE_TO_ASSUME\n",
    "\n",
    "def get_credentials():\n",
    "    sts_client = boto3.client('sts')\n",
    "    assumed_role = sts_client.assume_role(\n",
    "        RoleArn=role_to_assume,\n",
    "        RoleSessionName='cross-account-session',\n",
    "        # Don't set DurationSeconds when role chaining\n",
    "    )\n",
    "    return {\n",
    "        'access_key': assumed_role['Credentials']['AccessKeyId'],\n",
    "        'secret_key': assumed_role['Credentials']['SecretAccessKey'],\n",
    "        'token': assumed_role['Credentials']['SessionToken'],\n",
    "        'expiry_time': assumed_role['Credentials']['Expiration'].isoformat()\n",
    "    }\n",
    "\n",
    "session = get_session()\n",
    "refresh_creds = RefreshableCredentials.create_from_metadata(\n",
    "    metadata=get_credentials(),\n",
    "    refresh_using=get_credentials,\n",
    "    method='sts-assume-role'\n",
    ")\n",
    "\n",
    "# Create a new session with refreshable credentials\n",
    "session._credentials = refresh_creds\n",
    "boto3_session = boto3.Session(botocore_session=session)\n",
    "# ---- ⚠️ Update region for your AWS setup ⚠️ ----\n",
    "bedrock_client = boto3_session.client(\"bedrock-runtime\",\n",
    "                              region_name=region)"
   ]
  },
  {
   "cell_type": "code",
   "execution_count": null,
   "id": "689c826f-ffed-4a25-8b87-a84d6495a930",
   "metadata": {},
   "outputs": [],
   "source": [
    "region: str = \"us-east-1\"\n",
    "from langchain_aws import ChatBedrockConverse\n",
    "import boto3\n",
    "\n",
    "# ---- ⚠️ Update region for your AWS setup ⚠️ ----\n",
    "bedrock_client = boto3_session.client(\"bedrock-runtime\",\n",
    "                              region_name=region)"
   ]
  },
  {
   "cell_type": "markdown",
   "id": "81d9296a-aee5-4823-9c9b-4accc0ce1e46",
   "metadata": {},
   "source": [
    "# Data Processing & Storage"
   ]
  },
  {
   "cell_type": "code",
   "execution_count": null,
   "id": "c9f20400-5071-4f2f-900c-8c7d4a51eea5",
   "metadata": {},
   "outputs": [],
   "source": []
  }
 ],
 "metadata": {
  "kernelspec": {
   "display_name": "conda_pytorch_p310",
   "language": "python",
   "name": "conda_pytorch_p310"
  },
  "language_info": {
   "codemirror_mode": {
    "name": "ipython",
    "version": 3
   },
   "file_extension": ".py",
   "mimetype": "text/x-python",
   "name": "python",
   "nbconvert_exporter": "python",
   "pygments_lexer": "ipython3",
   "version": "3.10.14"
  }
 },
 "nbformat": 4,
 "nbformat_minor": 5
}
